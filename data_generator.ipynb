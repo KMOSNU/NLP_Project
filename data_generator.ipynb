{
 "cells": [
  {
   "cell_type": "code",
   "execution_count": 1,
   "metadata": {},
   "outputs": [],
   "source": [
    "import pandas as pd\n",
    "import numpy as np\n",
    "import matplotlib.pyplot as plt\n",
    "import tensorflow as tf\n",
    "from tensorflow import keras"
   ]
  },
  {
   "cell_type": "code",
   "execution_count": 2,
   "metadata": {},
   "outputs": [],
   "source": [
    "def get_data(filename):\n",
    "    data = pd.read_pickle('data/'+filename+'.pkl')\n",
    "    label = data['label']\n",
    "    ppg = data['signal']['wrist']['BVP']\n",
    "    ppg = np.squeeze(ppg)\n",
    "    sec = int(len(ppg)/64)\n",
    "    block = int((sec-6)/2)\n",
    "    x =  np.empty((0,256),dtype = np.float64)\n",
    "    \n",
    "    for i in range(0,block):\n",
    "        temp_signal = ppg[i*128+256:i*128+512]\n",
    "        x = np.append(x,np.array([temp_signal]),axis=0)\n",
    "        \n",
    "    y = label\n",
    "    \n",
    "    return x,y\n",
    "\n",
    "def loadDatas():\n",
    "    xy = dict()\n",
    "    for i in range(1,16):\n",
    "        name = \"S\"+str(i)\n",
    "        txy = dict()\n",
    "        txy['x'], txy['y'] = get_data(name)\n",
    "        xy[name] = txy\n",
    "        print(str(i)+' complete')\n",
    "    with open('data.pkl','wb') as f:\n",
    "        pickle.dump(xy, f)"
   ]
  },
  {
   "cell_type": "code",
   "execution_count": 3,
   "metadata": {},
   "outputs": [
    {
     "name": "stdout",
     "output_type": "stream",
     "text": [
      "1 complete\n",
      "2 complete\n",
      "3 complete\n",
      "4 complete\n",
      "5 complete\n",
      "6 complete\n",
      "7 complete\n",
      "8 complete\n",
      "9 complete\n",
      "10 complete\n",
      "11 complete\n",
      "12 complete\n",
      "13 complete\n",
      "14 complete\n",
      "15 complete\n"
     ]
    }
   ],
   "source": [
    "import pickle\n",
    "loadDatas()"
   ]
  },
  {
   "cell_type": "code",
   "execution_count": 30,
   "metadata": {},
   "outputs": [],
   "source": [
    "combine = dict()\n",
    "for i in range(1,16):\n",
    "    name = \"S\"+str(i)\n",
    "    with open(name+'.pkl','rb') as f:\n",
    "        x = pickle.load(f)\n",
    "    combine[name] = x"
   ]
  },
  {
   "cell_type": "code",
   "execution_count": 28,
   "metadata": {},
   "outputs": [],
   "source": [
    "def savePickle():\n",
    "    for i in range(1,16):\n",
    "        name = \"S\"+str(i)\n",
    "        xy = []\n",
    "        x, y = get_data(name)\n",
    "        xy.append(x)\n",
    "        xy.append(y)\n",
    "        xy = np.array(xy)\n",
    "        with open(name+'.pkl','wb') as f:\n",
    "            pickle.dump(xy, f)\n",
    "        print(name+' complete')"
   ]
  },
  {
   "cell_type": "code",
   "execution_count": 36,
   "metadata": {},
   "outputs": [],
   "source": [
    "with open('data.pkl','wb') as f:\n",
    "     pickle.dump(combine, f)"
   ]
  }
 ],
 "metadata": {
  "kernelspec": {
   "display_name": "Python 3",
   "language": "python",
   "name": "python3"
  },
  "language_info": {
   "codemirror_mode": {
    "name": "ipython",
    "version": 3
   },
   "file_extension": ".py",
   "mimetype": "text/x-python",
   "name": "python",
   "nbconvert_exporter": "python",
   "pygments_lexer": "ipython3",
   "version": "3.8.3"
  }
 },
 "nbformat": 4,
 "nbformat_minor": 4
}
